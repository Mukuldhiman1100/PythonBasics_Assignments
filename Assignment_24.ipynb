{
 "cells": [
  {
   "cell_type": "markdown",
   "id": "d4664bd3",
   "metadata": {},
   "source": [
    "1. What is the relationship between def statements and lambda expressions ?\n",
    "\n",
    "Sol. Keyword def that marks the start of the function header. A function name to uniquely identify the function.\n",
    "Function naming follows the same rules of writing identifiers in Python  \n",
    "\n",
    "Lambdas are one-line methods without a name or we can say anonymous Func  \n",
    "They work practically the same as any other method in Python Lambdas differ from normal Python methods because they can have only one expression, can't contain any statements and their return type is a function object"
   ]
  },
  {
   "cell_type": "markdown",
   "id": "a0f02b44",
   "metadata": {},
   "source": [
    "2. What is the benefit of lambda?\n",
    "\n",
    "Sol. Fewer Lines of Code  \n",
    "Lambda functions are inline functions and thus execute comparatively faster Many times lambda functions make code much more readable by avoiding the logical jumps caused by function calls"
   ]
  },
  {
   "cell_type": "markdown",
   "id": "40a2f7d2",
   "metadata": {},
   "source": [
    "3. Compare and contrast map, filter, and reduce.\n",
    "\n",
    "Sol. map applies as a transformation to an element.  \n",
    "The map() function iterates through all items in the given iterable and executes the function we passed as an argument on each of them. Syntax : map(function, iterable(s))  \n",
    "\n",
    "filter accumulates only elements matching a condition.  \n",
    "filter() forms a new list that contains only elements that satisfy a certain condition, i.e. the function we passed returns True Syntax : filter(function, iterable(s))  \n",
    "\n",
    "reduce accumulates all elements to a single value, by using immutable values  \n",
    "reduce() works by calling the function we passed for the first two items in the sequence. The result returned by the function is used in another call to function alongside with the next (third in this case), element Syntax : reduce(function, sequence[, initial])  "
   ]
  },
  {
   "cell_type": "markdown",
   "id": "a52ccf54",
   "metadata": {},
   "source": [
    "4. What are function annotations, and how are they used?\n",
    "\n",
    "Sol.  Function annotation is the standard way to access the metadata with the arguments and the return value of the function.   \n",
    "They are used to type check the functions by declaring the type of the parameters and the return value for the functions. The string-based annotations help us to improve the help messages.  \n",
    "Syntax :  \n",
    "\n",
    "def func(a: 'int') -> 'int':   \n",
    "pass"
   ]
  },
  {
   "cell_type": "markdown",
   "id": "11cbb62b",
   "metadata": {},
   "source": [
    "5. What are recursive functions, and how are they used?\n",
    "\n",
    "Sol. A recursive function is a function that calls itself during its execution.  \n",
    "This means that the function will continue to call itself and repeat its behavior until some condition is met to return a result"
   ]
  },
  {
   "cell_type": "markdown",
   "id": "13362b58",
   "metadata": {},
   "source": [
    "6. What are some general design guidelines for coding functions?\n",
    "\n",
    "Sol. Use 4-space indentation and no tabs.  \n",
    "Use docstrings  \n",
    "Wrap linethat they don’t exceed 79 characters  \n",
    "Use of regular and updated comments are valuable to both the coders and users  \n",
    "Use of trailing commas : in case of tuple -> ('good',)  \n",
    "Use Python’s default UTF-8 or ASCII encodings and not any fancy encodings  \n",
    "Naming Conventions"
   ]
  },
  {
   "cell_type": "markdown",
   "id": "7b52e46b",
   "metadata": {},
   "source": [
    "7. Name three or more ways that functions can communicate results to a caller.\n",
    "\n",
    "Sol. Function can return single value  \n",
    "Can return multiple values, tuple  \n",
    "can return list,dictionary  \n",
    "can return function object  \n",
    "can return class object"
   ]
  },
  {
   "cell_type": "code",
   "execution_count": null,
   "id": "7a15472b",
   "metadata": {},
   "outputs": [],
   "source": []
  }
 ],
 "metadata": {
  "kernelspec": {
   "display_name": "Python 3 (ipykernel)",
   "language": "python",
   "name": "python3"
  },
  "language_info": {
   "codemirror_mode": {
    "name": "ipython",
    "version": 3
   },
   "file_extension": ".py",
   "mimetype": "text/x-python",
   "name": "python",
   "nbconvert_exporter": "python",
   "pygments_lexer": "ipython3",
   "version": "3.9.12"
  }
 },
 "nbformat": 4,
 "nbformat_minor": 5
}
