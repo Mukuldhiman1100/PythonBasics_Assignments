{
 "cells": [
  {
   "cell_type": "markdown",
   "id": "7be48b43",
   "metadata": {},
   "source": [
    "1. What is the result of the code, and explain?\n",
    "\n",
    "\n",
    " X = 'iNeuron'   \n",
    " def func():   \n",
    "print(X)   \n",
    "func()"
   ]
  },
  {
   "cell_type": "code",
   "execution_count": 1,
   "id": "9d6fbd08",
   "metadata": {},
   "outputs": [
    {
     "name": "stdout",
     "output_type": "stream",
     "text": [
      "iNeuron\n"
     ]
    }
   ],
   "source": [
    "X = 'iNeuron'\n",
    "def func():\n",
    "    print(X)\n",
    "func()\n",
    "\n",
    "#Since x is global variable we are able to print it in side the function solution : 'iNeuron'"
   ]
  },
  {
   "cell_type": "markdown",
   "id": "d6fb5afd",
   "metadata": {},
   "source": [
    "2. What is the result of the code, and explain?\n",
    "\n",
    "\n",
    " X = 'iNeuron'   \n",
    " def func():   \n",
    "X = 'NI!'   \n",
    "\n",
    "\n",
    " func()   \n",
    " print(X)\n"
   ]
  },
  {
   "cell_type": "code",
   "execution_count": 2,
   "id": "1376da16",
   "metadata": {},
   "outputs": [
    {
     "name": "stdout",
     "output_type": "stream",
     "text": [
      "iNeuron\n"
     ]
    }
   ],
   "source": [
    "X = 'iNeuron'\n",
    "def func():\n",
    "    X = 'NI!'\n",
    "\n",
    "func()\n",
    "print(X)\n",
    "\n",
    "#Ans. The global variables are access inside the functions in python. But we can not access function variable out side function.\n",
    "# Since x is golbal variable we are able to print it out side of the function solution = 'iNeuron'"
   ]
  },
  {
   "cell_type": "markdown",
   "id": "fa7f31af",
   "metadata": {},
   "source": [
    "3. What does this code print, and why?\n",
    "\n",
    "\n",
    " X = 'iNeuron'   \n",
    " def func():   \n",
    "X = 'NI'   \n",
    "print(X)\n",
    "\n",
    "\n",
    " func()   \n",
    " print(X)   \n"
   ]
  },
  {
   "cell_type": "code",
   "execution_count": 3,
   "id": "bd8b2ef5",
   "metadata": {},
   "outputs": [
    {
     "name": "stdout",
     "output_type": "stream",
     "text": [
      "NI!\n",
      "iNeuron\n"
     ]
    }
   ],
   "source": [
    "X = 'iNeuron'\n",
    "def func():\n",
    "    X = 'NI!'\n",
    "    print(X)\n",
    "\n",
    "func()\n",
    "print(X)\n",
    "\n",
    "#Ans. The global variables are access in side the functions in python. But we can not access function variable out side function.\n",
    "# X is updated with 'NI' which is local to function and its immutable. its name space is with in the function solution = 'NI!', 'iNeuron'\n"
   ]
  },
  {
   "cell_type": "markdown",
   "id": "809b0566",
   "metadata": {},
   "source": [
    "4. What output does this code produce? Why?\n",
    "\n",
    "\n",
    " X = 'iNeuron'  \n",
    " def func():   \n",
    "global X   \n",
    "X = 'NI'   \n",
    "\n",
    "\n",
    " func()   \n",
    " print(X)\n"
   ]
  },
  {
   "cell_type": "code",
   "execution_count": 4,
   "id": "d570d044",
   "metadata": {},
   "outputs": [
    {
     "name": "stdout",
     "output_type": "stream",
     "text": [
      "NI!\n",
      "NI!\n"
     ]
    }
   ],
   "source": [
    "X = 'iNeuron'\n",
    "def func():\n",
    "    global X\n",
    "    X = 'NI!'\n",
    "    print(X)\n",
    "\n",
    "func()\n",
    "print(X)\n",
    "#Ans. since the X in side function is made Global, it will be accesible out side of the function too. \n",
    "#now X will have new value.\n",
    "\n",
    " #solution : 'NI!', 'NI!'"
   ]
  },
  {
   "cell_type": "markdown",
   "id": "a522921b",
   "metadata": {},
   "source": [
    "5. What about this code—what’s the output, and why?\n",
    "\n",
    "\n",
    " X = 'iNeuron'   \n",
    " def func():   \n",
    "X = 'NI'   \n",
    "def nested():   \n",
    "print(X)   \n",
    "nested()   \n",
    "\n",
    "\n",
    " func()   \n",
    " X\n"
   ]
  },
  {
   "cell_type": "code",
   "execution_count": 5,
   "id": "7f5607b3",
   "metadata": {},
   "outputs": [
    {
     "name": "stdout",
     "output_type": "stream",
     "text": [
      "iNeuron\n"
     ]
    },
    {
     "data": {
      "text/plain": [
       "'iNeuron'"
      ]
     },
     "execution_count": 5,
     "metadata": {},
     "output_type": "execute_result"
    }
   ],
   "source": [
    "X = 'iNeuron'\n",
    "def func():\n",
    "    X = 'NI'\n",
    "def nested():\n",
    "    print(X)\n",
    "    \n",
    "nested()\n",
    "func()\n",
    "X\n",
    "\n",
    "#Ans. the nested() function will print 'iNeuron', Then func() does not display anything,\n",
    "# and x ='NI' is not accessible out \n",
    "#side the function.\n",
    "#Solution : 'iNeuron'"
   ]
  },
  {
   "cell_type": "markdown",
   "id": "914653ff",
   "metadata": {},
   "source": [
    "6. How about this code: what is its output in Python 3, and explain?\n",
    "\n",
    "\n",
    " def func():   \n",
    "X = 'NI'   \n",
    "def nested():   \n",
    "nonlocal X   \n",
    "X = 'Spam'   \n",
    "nested()   \n",
    "print(X)   \n",
    "\n",
    "\n",
    " func()\n"
   ]
  },
  {
   "cell_type": "code",
   "execution_count": 6,
   "id": "660ff852",
   "metadata": {},
   "outputs": [
    {
     "name": "stdout",
     "output_type": "stream",
     "text": [
      "spam\n"
     ]
    }
   ],
   "source": [
    "def func():\n",
    "    X = 'NI'\n",
    "    def nested():\n",
    "        nonlocal X\n",
    "        X = 'spam'\n",
    "    nested()\n",
    "    print(X)\n",
    "\n",
    "func()\n",
    "\n",
    "#Nonlocal variables are used in nested functions whose local scope is not defined. \n",
    "#This means that the variable can be neither in the local nor the global scope. it print the updated value from nested \n",
    "#function\n",
    "\n",
    "#Sol : 'spam'"
   ]
  },
  {
   "cell_type": "code",
   "execution_count": 8,
   "id": "ac9330fe",
   "metadata": {},
   "outputs": [],
   "source": [
    "import random\n",
    "import pandas as pd\n",
    "from datetime import datetime, timedelta\n",
    "\n",
    "# Sample events for a delivery person's car GPS\n",
    "sample_events = [\n",
    "    {'timestamp': '2023-09-18 08:00:00', 'event_type': 'start', 'latitude': 40.7128, 'longitude': -74.0060},\n",
    "    {'timestamp': '2023-09-18 09:30:00', 'event_type': 'delivery', 'latitude': 40.7239, 'longitude': -74.0063},\n",
    "    {'timestamp': '2023-09-18 11:15:00', 'event_type': 'delivery', 'latitude': 40.7314, 'longitude': -74.0087},\n",
    "    {'timestamp': '2023-09-18 12:45:00', 'event_type': 'break', 'latitude': 40.7361, 'longitude': -73.9922},\n",
    "    {'timestamp': '2023-09-18 14:30:00', 'event_type': 'delivery', 'latitude': 40.7434, 'longitude': -73.9983},\n",
    "    {'timestamp': '2023-09-18 16:00:00', 'event_type': 'end', 'latitude': 40.7128, 'longitude': -74.0060},\n",
    "]\n",
    "\n",
    "# Convert the sample events to a DataFrame\n",
    "df = pd.DataFrame(sample_events)"
   ]
  },
  {
   "cell_type": "code",
   "execution_count": 10,
   "id": "54d5594a",
   "metadata": {},
   "outputs": [
    {
     "data": {
      "text/plain": [
       "[{'timestamp': '2023-09-18 08:00:00',\n",
       "  'event_type': 'start',\n",
       "  'latitude': 40.7128,\n",
       "  'longitude': -74.006},\n",
       " {'timestamp': '2023-09-18 09:30:00',\n",
       "  'event_type': 'delivery',\n",
       "  'latitude': 40.7239,\n",
       "  'longitude': -74.0063},\n",
       " {'timestamp': '2023-09-18 11:15:00',\n",
       "  'event_type': 'delivery',\n",
       "  'latitude': 40.7314,\n",
       "  'longitude': -74.0087},\n",
       " {'timestamp': '2023-09-18 12:45:00',\n",
       "  'event_type': 'break',\n",
       "  'latitude': 40.7361,\n",
       "  'longitude': -73.9922},\n",
       " {'timestamp': '2023-09-18 14:30:00',\n",
       "  'event_type': 'delivery',\n",
       "  'latitude': 40.7434,\n",
       "  'longitude': -73.9983},\n",
       " {'timestamp': '2023-09-18 16:00:00',\n",
       "  'event_type': 'end',\n",
       "  'latitude': 40.7128,\n",
       "  'longitude': -74.006}]"
      ]
     },
     "execution_count": 10,
     "metadata": {},
     "output_type": "execute_result"
    }
   ],
   "source": [
    "sample_events"
   ]
  },
  {
   "cell_type": "code",
   "execution_count": 11,
   "id": "811b2ba0",
   "metadata": {},
   "outputs": [],
   "source": [
    "import numpy as np"
   ]
  },
  {
   "cell_type": "code",
   "execution_count": 17,
   "id": "ee87ec0e",
   "metadata": {},
   "outputs": [],
   "source": [
    "data=pd.read_excel('Sample_Log.xlsx')"
   ]
  },
  {
   "cell_type": "code",
   "execution_count": 18,
   "id": "42aa2c66",
   "metadata": {},
   "outputs": [
    {
     "data": {
      "text/plain": [
       "array([[1, 1, 'bd7b10e3-9199-3ee8-866b-1a08574fed07', 557056,\n",
       "        '107.242.121.1', 1688000000000, 'America/Los_Angeles', 41.039148,\n",
       "        -122.39544],\n",
       "       [2, 1, 'bd7b10e3-9199-3ee8-866b-1a08574fed07', 32768, nan,\n",
       "        1688000000000, 'America/Los_Angeles', 41.03917, -122.39547],\n",
       "       [3, 1, 'bd7b10e3-9199-3ee8-866b-1a08574fed07', 32768, nan,\n",
       "        1688000000000, 'America/Los_Angeles', 41.03913, -122.39544],\n",
       "       [4, 10, 'bd7b10e3-9199-3ee8-866b-1a08574fed07', 557056,\n",
       "        '107.242.121.1', 1688000000000, 'America/Los_Angeles', 41.039177,\n",
       "        -122.39542],\n",
       "       [5, 1, 'bd7b10e3-9199-3ee8-866b-1a08574fed07', 557056,\n",
       "        '107.242.121.1', 1688000000000, 'America/Los_Angeles', 41.039182,\n",
       "        -122.39544]], dtype=object)"
      ]
     },
     "execution_count": 18,
     "metadata": {},
     "output_type": "execute_result"
    }
   ],
   "source": [
    "array = data.to_numpy()\n",
    "array"
   ]
  },
  {
   "cell_type": "code",
   "execution_count": null,
   "id": "1d5b4c96",
   "metadata": {},
   "outputs": [],
   "source": []
  }
 ],
 "metadata": {
  "kernelspec": {
   "display_name": "Python 3 (ipykernel)",
   "language": "python",
   "name": "python3"
  },
  "language_info": {
   "codemirror_mode": {
    "name": "ipython",
    "version": 3
   },
   "file_extension": ".py",
   "mimetype": "text/x-python",
   "name": "python",
   "nbconvert_exporter": "python",
   "pygments_lexer": "ipython3",
   "version": "3.9.12"
  }
 },
 "nbformat": 4,
 "nbformat_minor": 5
}
