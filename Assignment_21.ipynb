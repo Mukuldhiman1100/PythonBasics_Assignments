{
 "cells": [
  {
   "cell_type": "markdown",
   "id": "16e70608",
   "metadata": {},
   "source": [
    "1. Add the current date to the text file today.txt as a string."
   ]
  },
  {
   "cell_type": "code",
   "execution_count": 1,
   "id": "2cfb13b0",
   "metadata": {},
   "outputs": [
    {
     "data": {
      "text/plain": [
       "'2023-09-16'"
      ]
     },
     "execution_count": 1,
     "metadata": {},
     "output_type": "execute_result"
    }
   ],
   "source": [
    "import datetime\n",
    "from datetime import date\n",
    "now = date.today()\n",
    "cur_date = now.isoformat()\n",
    "cur_date"
   ]
  },
  {
   "cell_type": "code",
   "execution_count": 2,
   "id": "759db089",
   "metadata": {},
   "outputs": [],
   "source": [
    "with open('today.txt','w') as file:\n",
    "    file.write(cur_date)"
   ]
  },
  {
   "cell_type": "markdown",
   "id": "f9c9fca0",
   "metadata": {},
   "source": [
    "2. Read the text file today.txt into the string today_string"
   ]
  },
  {
   "cell_type": "code",
   "execution_count": 3,
   "id": "17cf05d7",
   "metadata": {},
   "outputs": [
    {
     "data": {
      "text/plain": [
       "'2023-09-16'"
      ]
     },
     "execution_count": 3,
     "metadata": {},
     "output_type": "execute_result"
    }
   ],
   "source": [
    "with open('today.txt','r') as file:\n",
    "    today_string = file.read()\n",
    "today_string"
   ]
  },
  {
   "cell_type": "markdown",
   "id": "9dd80403",
   "metadata": {},
   "source": [
    "3. Parse the date from today_string."
   ]
  },
  {
   "cell_type": "code",
   "execution_count": 4,
   "id": "b70af117",
   "metadata": {},
   "outputs": [
    {
     "data": {
      "text/plain": [
       "datetime.datetime(2023, 9, 16, 0, 0)"
      ]
     },
     "execution_count": 4,
     "metadata": {},
     "output_type": "execute_result"
    }
   ],
   "source": [
    "from datetime import datetime\n",
    "format = '%Y-%m-%d'\n",
    "datetime.strptime(today_string,format)"
   ]
  },
  {
   "cell_type": "markdown",
   "id": "db236c73",
   "metadata": {},
   "source": [
    "4. List the files in your current directory"
   ]
  },
  {
   "cell_type": "code",
   "execution_count": 5,
   "id": "23b39c5e",
   "metadata": {},
   "outputs": [
    {
     "data": {
      "text/plain": [
       "['.anaconda',\n",
       " '.businessobjects',\n",
       " '.cache',\n",
       " '.cisco',\n",
       " '.conda',\n",
       " '.condarc',\n",
       " '.config',\n",
       " '.continuum',\n",
       " '.csslintrc',\n",
       " '.dnx',\n",
       " '.dscsigner',\n",
       " '.eslintrc',\n",
       " '.ftpquota',\n",
       " '.ipynb_checkpoints',\n",
       " '.ipython',\n",
       " '.jupyter',\n",
       " '.matplotlib',\n",
       " '.ms-ad',\n",
       " '.nuget',\n",
       " '.spyder-py3',\n",
       " '.vscode',\n",
       " '.vscode-cli',\n",
       " '3D Objects',\n",
       " '50_Startups.csv',\n",
       " 'Ada Boost Hyperparameter.ipynb',\n",
       " 'Ada Boosting.ipynb',\n",
       " 'Advance house Price Prediction - Feature Engineering.ipynb',\n",
       " 'Advance House Price Prediction - Feature Selection.ipynb',\n",
       " 'Advance House Price Regression Technique - EDA.ipynb',\n",
       " 'Advertising.csv',\n",
       " 'All_Bagging_Boosting_Classification.ipynb',\n",
       " 'All_Bagging_Boosting_Regression.ipynb',\n",
       " 'annvoa.csv',\n",
       " 'annvoa.xlsx',\n",
       " 'AppData',\n",
       " 'Application Data',\n",
       " 'Assignment_10.ipynb',\n",
       " 'Assignment_11.ipynb',\n",
       " 'Assignment_12.ipynb',\n",
       " 'Assignment_13.ipynb',\n",
       " 'Assignment_14.ipynb',\n",
       " 'Assignment_15.ipynb',\n",
       " 'Assignment_16.ipynb',\n",
       " 'Assignment_17.ipynb',\n",
       " 'Assignment_18.ipynb',\n",
       " 'Assignment_19.ipynb',\n",
       " 'Assignment_2.ipynb',\n",
       " 'Assignment_20.ipynb',\n",
       " 'Assignment_21.ipynb',\n",
       " 'Assignment_3.ipynb',\n",
       " 'Assignment_4.ipynb',\n",
       " 'Assignment_5.ipynb',\n",
       " 'Assignment_6.ipynb',\n",
       " 'Assignment_7.ipynb',\n",
       " 'Assignment_8.ipynb',\n",
       " 'Bagging_RandomForestClassifier.ipynb',\n",
       " 'Bag_Boost_Regression.ipynb',\n",
       " 'Basic 1 .ipynb',\n",
       " 'Basic 2.ipynb',\n",
       " 'Basic.ipynb',\n",
       " 'books.csv',\n",
       " 'books.db',\n",
       " 'Boston Housing Linear Implementation.ipynb',\n",
       " 'California_Housing.ipynb',\n",
       " 'California_housing.xlsx',\n",
       " 'cgi-bin',\n",
       " 'changepassworddeo.aspx',\n",
       " 'Chi Square Test.ipynb',\n",
       " 'Churn_Modelling.csv',\n",
       " 'Classified Data',\n",
       " 'cleaned_google_playstore.csv',\n",
       " 'coffeelint.json',\n",
       " 'Contacts',\n",
       " 'Cookies',\n",
       " 'Cross Validation and Decision Tree Regression.ipynb',\n",
       " 'css',\n",
       " 'Customers.csv',\n",
       " 'DBSCAN Clustering.ipynb',\n",
       " 'Decision Tree Pre and Post Prunning.ipynb',\n",
       " 'Desktop',\n",
       " 'df_excel',\n",
       " 'digi.jpg',\n",
       " 'Dimension Reduction using Principal Component Analysis.ipynb',\n",
       " 'Documents',\n",
       " 'Downloads',\n",
       " 'DSA_Array.ipynb',\n",
       " 'DSA_Hashing.ipynb',\n",
       " 'DSA_LinkedList.ipynb',\n",
       " 'DSA_Practice.ipynb',\n",
       " 'DSA_Queue_Using_LinkedList.ipynb',\n",
       " 'DSA_Searching_Sorting.ipynb',\n",
       " 'DSA_Stack.ipynb',\n",
       " 'ds_salaries.csv',\n",
       " 'EDA USA Housing.ipynb',\n",
       " 'EDA.ipynb',\n",
       " 'EDA_Part2.ipynb',\n",
       " 'EDA_Part_1.ipynb',\n",
       " 'EDA_Penguin_DataSet.ipynb',\n",
       " 'Exception Handling.ipynb',\n",
       " 'Exploratory Data Analysis Titanic.ipynb',\n",
       " 'Favorites',\n",
       " 'Feature_Engineering.ipynb',\n",
       " 'frmCleanersAndTheirDependent.html',\n",
       " 'frmConstructionofShopInUrbanArea.html',\n",
       " 'frmContactus.html',\n",
       " 'frmDownloadformformats.html',\n",
       " 'frmJeevikaAvsarProtsahanYojna.html',\n",
       " 'frmNationalSCVittSchemes.html',\n",
       " 'frmSCSTSelfEmployment.html',\n",
       " 'frmShilpiGramforSCST.html',\n",
       " 'frmSucessStory.html',\n",
       " 'frmSucessStory2014-15.html',\n",
       " 'Functions in Python.ipynb',\n",
       " 'Gos.html',\n",
       " 'Gradient_Boosting.ipynb',\n",
       " 'HaberMan Exploratory Data Analysis.ipynb',\n",
       " 'haberman.csv',\n",
       " 'heart.csv',\n",
       " 'housetrain.csv',\n",
       " 'house_train_done.csv',\n",
       " 'Hyperparameter Optimization for XGBoost.ipynb',\n",
       " 'index.html',\n",
       " 'index2.html',\n",
       " 'index888.html',\n",
       " 'IntelGraphicsProfiles',\n",
       " 'K Means Clustering.ipynb',\n",
       " 'K-Nearest Neighbour.ipynb',\n",
       " 'Kaggle_Spaceship_Titanic.ipynb',\n",
       " 'Linear Regression.ipynb',\n",
       " 'Links',\n",
       " 'Local Settings',\n",
       " 'Logistic Regression.ipynb',\n",
       " 'MatplotLib.ipynb',\n",
       " 'MicrosoftEdgeBackups',\n",
       " 'Multicolinearity.ipynb',\n",
       " 'Multiple Liner Regression.ipynb',\n",
       " 'Music',\n",
       " 'My Documents',\n",
       " 'MyFirstGrapgh.jpeg',\n",
       " \"Naive Bayes' Classifier .ipynb\",\n",
       " 'NetHood',\n",
       " 'NLP_Preprocessing_Techniques.ipynb',\n",
       " 'NTUSER.DAT',\n",
       " 'ntuser.dat.LOG1',\n",
       " 'ntuser.dat.LOG2',\n",
       " 'NTUSER.DAT{53b39e88-18c4-11ea-a811-000d3aa4692b}.TM.blf',\n",
       " 'NTUSER.DAT{53b39e88-18c4-11ea-a811-000d3aa4692b}.TMContainer00000000000000000001.regtrans-ms',\n",
       " 'NTUSER.DAT{53b39e88-18c4-11ea-a811-000d3aa4692b}.TMContainer00000000000000000002.regtrans-ms',\n",
       " 'ntuser.ini',\n",
       " 'Numpy.ipynb',\n",
       " 'One way Annova.ipynb',\n",
       " 'OneDrive',\n",
       " 'Oops Concept.ipynb',\n",
       " 'Oops in Python.ipynb',\n",
       " 'Oops Inheritance.ipynb',\n",
       " 'Oops Public Protected Private.ipynb',\n",
       " 'P Value, T- Test, Correlation Implementation.ipynb',\n",
       " 'Pandas.ipynb',\n",
       " 'PCA_Digit_Recognizer.ipynb',\n",
       " 'penguins_size.csv',\n",
       " 'Performance Metrics on Multiclass Classification Problems.ipynb',\n",
       " 'Pictures',\n",
       " 'Postman',\n",
       " 'Practice_Scrapping.ipynb',\n",
       " 'PrintHood',\n",
       " 'Programming_Assignment_1.ipynb',\n",
       " 'Programming_Assignment_2.ipynb',\n",
       " 'Python_Practice.ipynb',\n",
       " 'Random_Practice.ipynb',\n",
       " 'Recent',\n",
       " 'regmodel.pkl',\n",
       " 'Ridge and Lasso Regression.ipynb',\n",
       " 'Salary_Data.csv',\n",
       " 'Sample.xlsx',\n",
       " 'sample_submission.csv',\n",
       " 'Saved Games',\n",
       " 'Scholarship_GroupWiseDataFilter.ipynb',\n",
       " 'scikit_learn_data',\n",
       " 'sclaing.pkl',\n",
       " 'Seaborn tutorial.ipynb',\n",
       " 'seaborn-data',\n",
       " 'Searches',\n",
       " 'SendTo',\n",
       " 'SLG_test.csv',\n",
       " 'SLG_train.csv',\n",
       " 'SQL_Connection.ipynb',\n",
       " 'Start Menu',\n",
       " 'SVM Kernel .ipynb',\n",
       " 'Templates',\n",
       " 'Test.csv',\n",
       " 'test.txt',\n",
       " 'Time Series .ipynb',\n",
       " 'TimeSeries_Petrol_Price_Prediction.ipynb',\n",
       " 'titanic_train.csv',\n",
       " 'today.txt',\n",
       " 'tslint.json',\n",
       " 'Univariate, Bivariate, Multivariate Analysis (EDA) Irirs.ipynb',\n",
       " 'Unsupervised Clustering Algorithm.ipynb',\n",
       " 'Untitled1.ipynb',\n",
       " 'USA_Housing.csv',\n",
       " 'USA_Housing_Updated.csv',\n",
       " 'Videos',\n",
       " 'wine.csv',\n",
       " 'XGBoost.ipynb']"
      ]
     },
     "execution_count": 5,
     "metadata": {},
     "output_type": "execute_result"
    }
   ],
   "source": [
    "import os\n",
    "os.listdir('.')"
   ]
  },
  {
   "cell_type": "markdown",
   "id": "9a43a4db",
   "metadata": {},
   "source": [
    "7. Create a date object of your day of birth."
   ]
  },
  {
   "cell_type": "code",
   "execution_count": 8,
   "id": "d73a1ee0",
   "metadata": {},
   "outputs": [
    {
     "data": {
      "text/plain": [
       "datetime.date(1998, 9, 9)"
      ]
     },
     "execution_count": 8,
     "metadata": {},
     "output_type": "execute_result"
    }
   ],
   "source": [
    "my_dob = date(1998,9,9)\n",
    "my_dob"
   ]
  },
  {
   "cell_type": "markdown",
   "id": "219b864a",
   "metadata": {},
   "source": [
    "8. What day of the week was your day of birth?"
   ]
  },
  {
   "cell_type": "code",
   "execution_count": 9,
   "id": "643a2d8f",
   "metadata": {},
   "outputs": [
    {
     "data": {
      "text/plain": [
       "2"
      ]
     },
     "execution_count": 9,
     "metadata": {},
     "output_type": "execute_result"
    }
   ],
   "source": [
    "my_dob.weekday()"
   ]
  },
  {
   "cell_type": "markdown",
   "id": "778e2ca4",
   "metadata": {},
   "source": [
    "9. When will you be (or when were you) 10,000 days old?"
   ]
  },
  {
   "cell_type": "code",
   "execution_count": 10,
   "id": "c1594f5d",
   "metadata": {},
   "outputs": [
    {
     "data": {
      "text/plain": [
       "datetime.date(2026, 1, 25)"
      ]
     },
     "execution_count": 10,
     "metadata": {},
     "output_type": "execute_result"
    }
   ],
   "source": [
    "from datetime import timedelta\n",
    "day10000 = my_dob + timedelta(days=10000)\n",
    "day10000"
   ]
  },
  {
   "cell_type": "code",
   "execution_count": null,
   "id": "dcfbed98",
   "metadata": {},
   "outputs": [],
   "source": []
  }
 ],
 "metadata": {
  "kernelspec": {
   "display_name": "Python 3 (ipykernel)",
   "language": "python",
   "name": "python3"
  },
  "language_info": {
   "codemirror_mode": {
    "name": "ipython",
    "version": 3
   },
   "file_extension": ".py",
   "mimetype": "text/x-python",
   "name": "python",
   "nbconvert_exporter": "python",
   "pygments_lexer": "ipython3",
   "version": "3.9.12"
  }
 },
 "nbformat": 4,
 "nbformat_minor": 5
}
