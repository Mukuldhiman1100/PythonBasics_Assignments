{
 "cells": [
  {
   "cell_type": "markdown",
   "id": "cefb8f7e",
   "metadata": {},
   "source": [
    "1.Why are functions advantageous to have in your programs?\n",
    "\n",
    "Sol. Functions reduce the need for duplicate code. This makes programs shorter, easier to read, and easier to update."
   ]
  },
  {
   "cell_type": "markdown",
   "id": "ca3cbf24",
   "metadata": {},
   "source": [
    "2.When does the code in a function run: when it's specified or when it's called?\n",
    "\n",
    "Sol. When the function is called"
   ]
  },
  {
   "cell_type": "markdown",
   "id": "374915cb",
   "metadata": {},
   "source": [
    "3.What statement creates a function?\n",
    "\n",
    "Sol. The def statement defines (i.e. creates) a function.\n",
    "     \n",
    "     def my_func():\n",
    "         pass"
   ]
  },
  {
   "cell_type": "markdown",
   "id": "3d7c9c90",
   "metadata": {},
   "source": [
    "4.What is the difference between a function and a function call?\n",
    "\n",
    "Sol. A function consist of defination where the working of the function is defined and a call where it is called after defining."
   ]
  },
  {
   "cell_type": "markdown",
   "id": "10515f0f",
   "metadata": {},
   "source": [
    "5.How many global scopes are there in a Python program? How many local scopes?\n",
    "\n",
    "Sol.There's only one global Python scope per program execution. This scope remains in existence until the program terminates , and a local scope is created whenever a function is called."
   ]
  },
  {
   "cell_type": "markdown",
   "id": "257dfaf2",
   "metadata": {},
   "source": [
    "6.What happens to variables in a local scope when the function call returns?\n",
    "\n",
    "Sol. When a function returns, the local scope is destroyed."
   ]
  },
  {
   "cell_type": "markdown",
   "id": "0c79d6dd",
   "metadata": {},
   "source": [
    "7.What is the concept of a return value? Is it possible to have a return value in an expression?\n",
    "\n",
    "Sol. Return value is outcome of function's evaluation. Yes it is possible to have a return value in an expression"
   ]
  },
  {
   "cell_type": "markdown",
   "id": "175a7a65",
   "metadata": {},
   "source": [
    "8.If a function does not have a return statement, what is the return value of a call to that function?\n",
    "\n",
    "Sol. The function will not return anything"
   ]
  },
  {
   "cell_type": "markdown",
   "id": "83c1de6a",
   "metadata": {},
   "source": [
    "9.How do you make a function variable refer to the global variable?\n",
    "\n",
    "Sol. By using the global keyword to declare which variables are global."
   ]
  },
  {
   "cell_type": "markdown",
   "id": "86dc5020",
   "metadata": {},
   "source": [
    "10.What is the data type of None?\n",
    "\n",
    "Sol. The data type of None is NoneType."
   ]
  },
  {
   "cell_type": "markdown",
   "id": "36d97c45",
   "metadata": {},
   "source": [
    "11.What does the sentence import areallyourpetsnamederic do?\n",
    "\n",
    "Sol. It will throw error because a module of this name doesnt exists in Python"
   ]
  },
  {
   "cell_type": "markdown",
   "id": "fe4f7b21",
   "metadata": {},
   "source": [
    "12.If you had a bacon() feature in a spam module, what would you call it after importing spam?\n",
    "\n",
    "Sol. import spam\n",
    "     spam.bacon()"
   ]
  },
  {
   "cell_type": "markdown",
   "id": "55813e2f",
   "metadata": {},
   "source": [
    "13.What can you do to save a programme from crashing if it encounters an error?\n",
    "\n",
    "Sol. We can use exception handling to save a program from crashing."
   ]
  },
  {
   "cell_type": "markdown",
   "id": "99eaeea0",
   "metadata": {},
   "source": [
    "14.What is the purpose of the try clause? What is the purpose of the except clause?\n",
    "\n",
    "Sol. Try and Except clause is used to handle the errors within our code . The try block is used to check some code for errors i.e the code inside the try block will execute when there is no error in the program. Whereas the code inside the except block will execute whenever the program encounters some error in the try block."
   ]
  },
  {
   "cell_type": "code",
   "execution_count": null,
   "id": "2a5c026a",
   "metadata": {},
   "outputs": [],
   "source": []
  }
 ],
 "metadata": {
  "kernelspec": {
   "display_name": "Python 3 (ipykernel)",
   "language": "python",
   "name": "python3"
  },
  "language_info": {
   "codemirror_mode": {
    "name": "ipython",
    "version": 3
   },
   "file_extension": ".py",
   "mimetype": "text/x-python",
   "name": "python",
   "nbconvert_exporter": "python",
   "pygments_lexer": "ipython3",
   "version": "3.9.12"
  }
 },
 "nbformat": 4,
 "nbformat_minor": 5
}
