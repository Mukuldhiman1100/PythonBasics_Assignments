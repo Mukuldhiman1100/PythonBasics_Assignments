{
 "cells": [
  {
   "cell_type": "raw",
   "id": "cb22cbf0",
   "metadata": {},
   "source": [
    "1. Why are functions advantageous to have in your programs?\n",
    "Sol. Functions reduce the need for duplicate code. This makes programs shorter, easier to read, and easier to update."
   ]
  },
  {
   "cell_type": "raw",
   "id": "c9cd77e2",
   "metadata": {},
   "source": [
    "2. When does the code in a function run: when it's specified or when it's called?\n",
    "Sol. When the function is called"
   ]
  },
  {
   "cell_type": "raw",
   "id": "9d4309dd",
   "metadata": {},
   "source": [
    "3. What statement creates a function?\n",
    "Sol. The def statement defines (i.e. creates) a function.\n",
    "\n",
    "def my_func():\n",
    "    statement"
   ]
  },
  {
   "cell_type": "raw",
   "id": "aafd1934",
   "metadata": {},
   "source": [
    "4. What is the difference between a function and a function call?\n",
    "Sol. A function consist of defination where the working of the function is defined and a call where it is called after defining."
   ]
  },
  {
   "cell_type": "raw",
   "id": "2bb852c0",
   "metadata": {},
   "source": [
    "5. How many global scopes are there in a Python program? How many local scopes?\n",
    "Sol.There's only one global Python scope per program execution. This scope remains in existence until the program terminates , and a local scope is created whenever a function is called."
   ]
  },
  {
   "cell_type": "raw",
   "id": "0c0df60a",
   "metadata": {},
   "source": [
    "6. What happens to variables in a local scope when the function call returns?\n",
    "Sol. When a function returns, the local scope is destroyed."
   ]
  },
  {
   "cell_type": "raw",
   "id": "da5d9a52",
   "metadata": {},
   "source": [
    "7. What is the concept of a return value? Is it possible to have a return value in an expression?\n",
    "Sol. Return value is outcome of function's evaluation. Yes it is possible to have a return value in an expression"
   ]
  },
  {
   "cell_type": "raw",
   "id": "cc06a109",
   "metadata": {},
   "source": [
    "8. If a function does not have a return statement, what is the return value of a call to that function?\n",
    "Sol. The function will not return anything"
   ]
  },
  {
   "cell_type": "raw",
   "id": "025ea5ce",
   "metadata": {},
   "source": [
    "9. How do you make a function variable refer to the global variable?\n",
    "Sol. By using the global keyword to declare which variables are global."
   ]
  },
  {
   "cell_type": "raw",
   "id": "d9851aea",
   "metadata": {},
   "source": [
    "10. What is the data type of None?\n",
    "Sol. The data type of None is NoneType."
   ]
  },
  {
   "cell_type": "raw",
   "id": "153d434a",
   "metadata": {},
   "source": [
    "11. What does the sentence import areallyourpetsnamederic do?\n",
    "Sol. It will throw error because a module of this name doesnt exists in Python"
   ]
  },
  {
   "cell_type": "raw",
   "id": "cac48ae1",
   "metadata": {},
   "source": [
    "12. If you had a bacon() feature in a spam module, what would you call it after importing spam?\n",
    "Sol. import spam\n",
    "    spam.bacon()"
   ]
  },
  {
   "cell_type": "raw",
   "id": "9e4cf352",
   "metadata": {},
   "source": [
    "13. What can you do to save a programme from crashing if it encounters an error?\n",
    "Sol. We can use exception handling to save a program from crashing."
   ]
  },
  {
   "cell_type": "raw",
   "id": "16f9ba61",
   "metadata": {},
   "source": [
    "14. What is the purpose of the try clause? What is the purpose of the except clause?\n",
    "Sol. Try and Except clause is used to handle the errors within our code . The try block is used to check some code for errors i.e the code inside the try block will execute when there is no error in the program. Whereas the code inside the except block will execute whenever the program encounters some error in the try block."
   ]
  },
  {
   "cell_type": "code",
   "execution_count": null,
   "id": "2a5c026a",
   "metadata": {},
   "outputs": [],
   "source": []
  }
 ],
 "metadata": {
  "kernelspec": {
   "display_name": "Python 3 (ipykernel)",
   "language": "python",
   "name": "python3"
  },
  "language_info": {
   "codemirror_mode": {
    "name": "ipython",
    "version": 3
   },
   "file_extension": ".py",
   "mimetype": "text/x-python",
   "name": "python",
   "nbconvert_exporter": "python",
   "pygments_lexer": "ipython3",
   "version": "3.9.12"
  }
 },
 "nbformat": 4,
 "nbformat_minor": 5
}
